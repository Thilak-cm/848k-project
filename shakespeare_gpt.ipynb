{
 "cells": [
  {
   "cell_type": "code",
   "execution_count": 1,
   "metadata": {},
   "outputs": [
    {
     "data": {
      "text/plain": [
       "<torch._C.Generator at 0x118a1a0f0>"
      ]
     },
     "execution_count": 1,
     "metadata": {},
     "output_type": "execute_result"
    }
   ],
   "source": [
    "import matplotlib.pyplot as plt\n",
    "import torch\n",
    "import torch.nn as nn\n",
    "from torch.nn import functional as F\n",
    "import wandb\n",
    "from tqdm import tqdm\n",
    "import time\n",
    "import json\n",
    "torch.manual_seed(1337)"
   ]
  },
  {
   "cell_type": "code",
   "execution_count": 2,
   "metadata": {},
   "outputs": [],
   "source": [
    "# # initialize wandb\n",
    "# wandb.init(project=\"GPT 2 848K\")\n",
    "# wandb.run.tags = ['GPT 1', 'test run']"
   ]
  },
  {
   "cell_type": "code",
   "execution_count": 3,
   "metadata": {},
   "outputs": [],
   "source": [
    "# pull from local folder\n",
    "filename = 'tinyshakespeare.txt'\n",
    "with open(filename, 'r') as f:\n",
    "    text = f.read()"
   ]
  },
  {
   "cell_type": "code",
   "execution_count": 4,
   "metadata": {},
   "outputs": [],
   "source": [
    "# TODO: count how many params you're using in this code, and implement chinchilla law to understand how much data you need to ensure you aren't under training\n",
    "# get vocab\n",
    "vocab = list(sorted(set(text)))\n",
    "vocab_size = len(vocab)\n",
    "# embedding dimensions \n",
    "n_emb = 32\n",
    "learning_rate = 1e-4\n",
    "block_size = 8\n",
    "epochs = 5000\n",
    "batch_size = 4 # how many sequences we will process in parallel, each of these sequences is block_size long\n",
    "block_size = 8 # the length of each sequence\n",
    "# how often to evaluate loss\n",
    "eval_iter = 200\n",
    "# number of blocks in the transformer\n",
    "n_layer = 2\n",
    "# number of heads in the transformer\n",
    "n_heads = 2\n",
    "# each head size is n_emb // n_heads = 32 // 2 = 16\n",
    "dropout = 0.2 # 20% will be zeroed out\n",
    "train_test_split = 0.9 # 85% of data will be used for training\n",
    "device = 'mps' if torch.backends.mps.is_available() else 'cpu'"
   ]
  },
  {
   "cell_type": "code",
   "execution_count": 5,
   "metadata": {},
   "outputs": [],
   "source": [
    "# character level encoding and decoding\n",
    "stoi = {c: i for i, c in enumerate(vocab)}\n",
    "# itos = {i: c for i, c in enumerate(vocab)}\n",
    "# alternate way of creating decoder func\n",
    "itos = {i: c for c, i in stoi.items()}\n",
    "encode = lambda x: [stoi[c] for c in x]\n",
    "decode = lambda x: ''.join([itos[i] for i in x])"
   ]
  },
  {
   "cell_type": "code",
   "execution_count": 6,
   "metadata": {},
   "outputs": [],
   "source": [
    "# encode full dataset\n",
    "data = torch.tensor(encode(text), dtype=torch.long)\n",
    "\n",
    "# train test split\n",
    "train_size = int(train_test_split * len(data))\n",
    "train_data = data[:train_size]\n",
    "test_data = data[train_size:]"
   ]
  },
  {
   "cell_type": "code",
   "execution_count": null,
   "metadata": {},
   "outputs": [],
   "source": []
  },
  {
   "cell_type": "code",
   "execution_count": 7,
   "metadata": {},
   "outputs": [],
   "source": [
    "def get_batch(split):\n",
    "    data = train_data if split == 'train' else test_data\n",
    "    ix = torch.randint(len(data) - block_size, (batch_size,))\n",
    "    x = torch.stack([data[i:i+block_size] for i in ix])\n",
    "    y = torch.stack([data[i+1:i+block_size+1] for i in ix])\n",
    "    return x, y"
   ]
  },
  {
   "cell_type": "code",
   "execution_count": 8,
   "metadata": {},
   "outputs": [
    {
     "data": {
      "text/plain": [
       "tensor([  0,  -2,  -4,  -6,  -8, -10, -12, -14, -16, -18, -20, -22, -24, -26,\n",
       "        -28, -30])"
      ]
     },
     "execution_count": 8,
     "metadata": {},
     "output_type": "execute_result"
    }
   ],
   "source": [
    "-torch.arange(0, n_emb, 2)"
   ]
  },
  {
   "cell_type": "code",
   "execution_count": 9,
   "metadata": {},
   "outputs": [
    {
     "data": {
      "text/plain": [
       "tensor([  0,  -1,  -2,  -3,  -4,  -5,  -6,  -7,  -8,  -9, -10, -11, -12, -13,\n",
       "        -14, -15])"
      ]
     },
     "execution_count": 9,
     "metadata": {},
     "output_type": "execute_result"
    }
   ],
   "source": [
    "-torch.arange(0, n_emb // 2)"
   ]
  },
  {
   "cell_type": "code",
   "execution_count": 10,
   "metadata": {},
   "outputs": [],
   "source": [
    "class AttentionHead(nn.Module):\n",
    "    '''one head of self-attention'''\n",
    "\n",
    "    def __init__(self, head_size):\n",
    "        super().__init__()\n",
    "        # usually bias is not used in self-attention TODO: understand better why\n",
    "        self.key = nn.Linear(n_emb, head_size, bias=False)\n",
    "        self.query = nn.Linear(n_emb, head_size, bias=False)\n",
    "        self.value = nn.Linear(n_emb, head_size, bias=False)\n",
    "        # triangular mask to prevent attending to future tokens\n",
    "        self.register_buffer('tril', torch.tril(torch.ones(block_size, block_size)))\n",
    "        # using register buffer ensures that tril is not initialized as a param, so it won't be optimized during training\n",
    "        self.dropout = nn.Dropout(dropout)\n",
    "\n",
    "    def create_rotary_embeddings(self):\n",
    "        '''rotary position embedding, as described in the RoPE paper'''\n",
    "        # N is typically set to 10,000 in RoPE implementations\n",
    "        N = 10_000\n",
    "        # Generate base theta values, each value corresponds to a \"pair\" and repeats twice\n",
    "        theta_base = torch.pow(N, -torch.arange(0, n_emb // 2).float() / n_emb)\n",
    "        # Repeat each element in theta_base twice to create the desired pattern\n",
    "        theta = torch.repeat_interleave(theta_base, repeats=2)\n",
    "        pos = torch.arange(block_size).float()\n",
    "        idx_theta = pos[:, None] * theta[None, :]\n",
    "        cache = torch.stack((torch.cos(idx_theta), torch.sin(idx_theta)), dim=-1)\n",
    "        self.register_buffer('cache', cache, persistent=False) # TODO: understand why persistent=False\n",
    "\n",
    "        return theta, pos, idx_theta\n",
    "    \n",
    "    def forward(self, x):\n",
    "        B, T, C = x.shape\n",
    "        k = self.key(x) # BxTxC\n",
    "        q = self.query(x) # BxTxC\n",
    "        v = self.value(x) # BxTxC\n",
    "        \n",
    "        # compute attention scores\n",
    "        # could potentially be optimized by using einsum? TODO: understand how\n",
    "        # could potentially use lora's code to optimize this\n",
    "        wei = q @ k.transpose(-2, -1) * C ** -0.5 # BxTxC @ BxCxT (because of transposing second last and last dim of k) --> BxTxT\n",
    "        # BxTxT: the TxT part of this attention matrix is where the quadratic complexity dependent on context length comes from\n",
    "        # * C ** -0.5 is the one over root dk scaling factor in the attention formula\n",
    "        wei = wei.masked_fill(self.tril[:T, :T] == 0, float('-inf')) # wherever tril is 0, in that position of wei, replace existing value with -inf\n",
    "        # :T, :T is sliced to prevent index out of bounds error (for the case where block_size is not equal to T)\n",
    "        wei = torch.softmax(wei, dim=-1) # TODO: understand why we softmax on the last dim\n",
    "        wei = self.dropout(wei) # dropout on attention scores, randomly set some of them to 0\n",
    "        # perform aggregation of values with attention scores\n",
    "        out = wei @ v # BxTxT @ BxTxC --> BxTxC\n",
    "        # out = F.scaled_dot_product_attention(q, k, v, is_causal=True) # BxTxC\n",
    "        # back to the dims we started with\n",
    "        return out"
   ]
  },
  {
   "cell_type": "code",
   "execution_count": 11,
   "metadata": {},
   "outputs": [],
   "source": [
    "x = AttentionHead(n_emb // n_heads)\n",
    "theta, pos, idx = x.create_rotary_embeddings()"
   ]
  },
  {
   "cell_type": "code",
   "execution_count": 12,
   "metadata": {},
   "outputs": [
    {
     "data": {
      "text/plain": [
       "tensor([1.0000, 1.0000, 0.7499, 0.7499, 0.5623, 0.5623, 0.4217, 0.4217, 0.3162,\n",
       "        0.3162, 0.2371, 0.2371, 0.1778, 0.1778, 0.1334, 0.1334, 0.1000, 0.1000,\n",
       "        0.0750, 0.0750, 0.0562, 0.0562, 0.0422, 0.0422, 0.0316, 0.0316, 0.0237,\n",
       "        0.0237, 0.0178, 0.0178, 0.0133, 0.0133])"
      ]
     },
     "execution_count": 12,
     "metadata": {},
     "output_type": "execute_result"
    }
   ],
   "source": [
    "# theta.shape, pos.shape, idx.shape\n",
    "theta"
   ]
  },
  {
   "cell_type": "code",
   "execution_count": 13,
   "metadata": {},
   "outputs": [
    {
     "data": {
      "text/plain": [
       "tensor([1.0000, 1.0000, 0.7499, 0.7499, 0.5623, 0.5623, 0.4217, 0.4217, 0.3162,\n",
       "        0.3162, 0.2371, 0.2371, 0.1778, 0.1778, 0.1334, 0.1334, 0.1000, 0.1000,\n",
       "        0.0750, 0.0750, 0.0562, 0.0562, 0.0422, 0.0422, 0.0316, 0.0316, 0.0237,\n",
       "        0.0237, 0.0178, 0.0178, 0.0133, 0.0133])"
      ]
     },
     "execution_count": 13,
     "metadata": {},
     "output_type": "execute_result"
    }
   ],
   "source": [
    "theta"
   ]
  },
  {
   "cell_type": "code",
   "execution_count": 14,
   "metadata": {},
   "outputs": [],
   "source": [
    "class MultiHeadAttention(nn.Module):\n",
    "    '''multi headed self attention'''\n",
    "\n",
    "    def __init__(self, num_heads, head_size):\n",
    "        super().__init__() # This initializes nn.Module (parent class from which MultiHeadAttention inherits from) before \n",
    "        # initializing anything in this child class\n",
    "        self.heads = nn.ModuleList([AttentionHead(head_size) for _ in range(num_heads)])\n",
    "        self.projection = nn.Linear(n_emb, n_emb) # linear layer to project concatenated heads output back to n_emb\n",
    "        # project back into the residual pathway\n",
    "        self.dropout = nn.Dropout(dropout)\n",
    "    \n",
    "    def forward(self, x):\n",
    "        out = torch.cat([h(x) for h in self.heads], dim=-1) # BxTxC\n",
    "        out = self.projection(out)\n",
    "        return self.dropout(out)"
   ]
  },
  {
   "cell_type": "code",
   "execution_count": 15,
   "metadata": {},
   "outputs": [],
   "source": [
    "class FeedForwardNN(nn.Module):\n",
    "    '''simple one layer linear nn'''\n",
    "\n",
    "    def __init__(self, n_emb):\n",
    "        super().__init__()\n",
    "        self.net = nn.Sequential(\n",
    "            nn.Linear(n_emb, 4 * n_emb), # add a factor of 4 to n_emb as per GPT-2, just to make it more expressive, increasing complexity and computation\n",
    "            nn.ReLU(), # TODO: use GELU instead of ReLU\n",
    "            nn.Linear(4 * n_emb, n_emb), # linear projection back into the residual pathway\n",
    "            nn.Dropout(dropout) # add right before connetion before residual connection\n",
    "        )\n",
    "    \n",
    "    def forward(self, x):\n",
    "        return self.net(x)"
   ]
  },
  {
   "cell_type": "code",
   "execution_count": 16,
   "metadata": {},
   "outputs": [],
   "source": [
    "class Block(nn.Module):\n",
    "    '''transformer block: create multiple blocks and concatenate them'''\n",
    "\n",
    "    def __init__(self, n_emb, num_heads):\n",
    "        super().__init__()\n",
    "        head_size = n_emb // num_heads\n",
    "        self.sa = MultiHeadAttention(num_heads, head_size)\n",
    "        self.ffn = FeedForwardNN(n_emb)\n",
    "        self.ln1 = nn.LayerNorm(n_emb)\n",
    "        self.ln2 = nn.LayerNorm(n_emb)\n",
    "\n",
    "    def forward(self, x):\n",
    "        x = x + self.sa(self.ln1(x)) # residual connection # TODO: test using layer norm after sa and ffn as in original transformer paper \n",
    "        # and understand why there was an improvement in the new method\n",
    "        x = x + self.ffn(self.ln2(x)) # residual connection (damn that was a very easy change to make)\n",
    "        return x"
   ]
  },
  {
   "cell_type": "code",
   "execution_count": 17,
   "metadata": {},
   "outputs": [],
   "source": [
    "class NanoGPT(nn.Module):\n",
    "    def __init__(self):\n",
    "        super().__init__()\n",
    "        # each token directly reads off the logits for the next token in the lookup table\n",
    "        self.token_embedding_table = nn.Embedding(vocab_size, n_emb) # W_E in GPT-2\n",
    "        self.positional_embedding_table = nn.Embedding(block_size, n_emb) # W_P in GPT-2\n",
    "        self.blocks = nn.Sequential(*[Block(n_emb, num_heads=n_heads) for _ in range(n_layer)]) # 4 blocks as per GPT-2 \n",
    "        # asterisk is used here to unpack the list of blocks so it can be passed as individual elements to nn.Sequential and not as one big list\n",
    "        # also this is just a simpler representation of the previous thing we did, where we had a list of blocks and we individually called them\n",
    "        self.lm_head = nn.Linear(n_emb, vocab_size) # W_o in GPT-2\n",
    "\n",
    "    def forward(self, idx, targets=None):\n",
    "        B, T = idx.shape\n",
    "        # idx and targets are both of shape (batch_size, block_size) aka (B, T)\n",
    "        token_emb = self.token_embedding_table(idx) # Batch x time x channel (here channel is now n_emb)\n",
    "        pos_emb = self.positional_embedding_table(torch.arange(T)) # time x channel\n",
    "        # x = token_emb + pos_emb  # add positional embedding to token embedding\n",
    "        x = token_emb\n",
    "        x = self.blocks(x)\n",
    "        logits = self.lm_head(x) # B, T, vocab size\n",
    "\n",
    "        if targets is None:\n",
    "            loss = None\n",
    "        else:\n",
    "            # loss = F.cross_entropy(logits.view(-1, vocab_size), targets.view(-1)) # we could do this, but its hard to understand, so\n",
    "            B, T, C = logits.shape\n",
    "            logits = logits.view(B*T, C)\n",
    "            targets = targets.view(B*T)\n",
    "            loss = F.cross_entropy(logits, targets) \n",
    "\n",
    "        return logits, loss\n",
    "\n",
    "    # auto regressive generation\n",
    "    def generate(self, idx, max_new_tokens=100):\n",
    "        # idx is BxT\n",
    "        for _ in range(max_new_tokens):\n",
    "            # get the last block_size tokens of the idx\n",
    "            idx_cond = idx[:, -block_size:] # BxT\n",
    "            logits, loss = self(idx_cond)\n",
    "            # pluck out last column in time dimension, because this is the generated predictions for what comes next\n",
    "            logits = logits[:, -1, :] # keep only the last token for each sequence in the batch aka BxC\n",
    "            probs = F.softmax(logits, dim=-1) # BxC\n",
    "            # sample from the distribution\n",
    "            next_token = torch.multinomial(probs, num_samples=1) # Bx1\n",
    "            # append newly generated token to input idx to obtain new input for next generation iteration\n",
    "            idx = torch.cat([idx, next_token], dim=-1) # Bx(T+1) # TODO: understand why this is dim=-1\n",
    "        return idx"
   ]
  },
  {
   "cell_type": "code",
   "execution_count": 18,
   "metadata": {},
   "outputs": [],
   "source": [
    "x = NanoGPT()\n",
    "idx = torch.randint(vocab_size, (2,4))\n",
    "logits, loss = x(idx=idx)"
   ]
  },
  {
   "cell_type": "code",
   "execution_count": null,
   "metadata": {},
   "outputs": [],
   "source": []
  },
  {
   "cell_type": "code",
   "execution_count": null,
   "metadata": {},
   "outputs": [],
   "source": []
  },
  {
   "cell_type": "code",
   "execution_count": null,
   "metadata": {},
   "outputs": [],
   "source": []
  },
  {
   "cell_type": "code",
   "execution_count": 19,
   "metadata": {},
   "outputs": [],
   "source": [
    "model = NanoGPT()\n",
    "\n",
    "optimizer = torch.optim.AdamW(model.parameters(), lr=learning_rate) # TODO: try adding a lr schedule"
   ]
  },
  {
   "cell_type": "code",
   "execution_count": 20,
   "metadata": {},
   "outputs": [],
   "source": [
    "# Track best losses and store losses for plotting\n",
    "best_train_loss = float('inf')\n",
    "best_val_loss = float('inf')\n",
    "train_losses = []\n",
    "val_losses = []"
   ]
  },
  {
   "cell_type": "code",
   "execution_count": 21,
   "metadata": {},
   "outputs": [
    {
     "name": "stderr",
     "output_type": "stream",
     "text": [
      "Training Epochs:   1%|          | 27/5000 [00:00<00:43, 113.71it/s]"
     ]
    },
    {
     "name": "stdout",
     "output_type": "stream",
     "text": [
      "Epoch: 0, Train Loss: 4.302455425262451, Val Loss: 4.40168883562088\n"
     ]
    },
    {
     "name": "stderr",
     "output_type": "stream",
     "text": [
      "Training Epochs:   5%|▍         | 233/5000 [00:01<00:26, 178.27it/s]"
     ]
    },
    {
     "name": "stdout",
     "output_type": "stream",
     "text": [
      "Epoch: 200, Train Loss: 3.3392529487609863, Val Loss: 3.713762534856796\n"
     ]
    },
    {
     "name": "stderr",
     "output_type": "stream",
     "text": [
      "Training Epochs:   9%|▊         | 433/5000 [00:02<00:23, 191.87it/s]"
     ]
    },
    {
     "name": "stdout",
     "output_type": "stream",
     "text": [
      "Epoch: 400, Train Loss: 3.524874210357666, Val Loss: 3.321220185756683\n"
     ]
    },
    {
     "name": "stderr",
     "output_type": "stream",
     "text": [
      "Training Epochs:  12%|█▏        | 621/5000 [00:03<00:28, 155.48it/s]"
     ]
    },
    {
     "name": "stdout",
     "output_type": "stream",
     "text": [
      "Epoch: 600, Train Loss: 2.595158100128174, Val Loss: 3.2182006192207337\n"
     ]
    },
    {
     "name": "stderr",
     "output_type": "stream",
     "text": [
      "Training Epochs:  17%|█▋        | 832/5000 [00:04<00:33, 123.94it/s]"
     ]
    },
    {
     "name": "stdout",
     "output_type": "stream",
     "text": [
      "Epoch: 800, Train Loss: 2.9629464149475098, Val Loss: 3.104701887369156\n"
     ]
    },
    {
     "name": "stderr",
     "output_type": "stream",
     "text": [
      "Training Epochs:  20%|██        | 1023/5000 [00:05<00:31, 125.49it/s]"
     ]
    },
    {
     "name": "stdout",
     "output_type": "stream",
     "text": [
      "Epoch: 1000, Train Loss: 2.5057387351989746, Val Loss: 2.9971798968315126\n"
     ]
    },
    {
     "name": "stderr",
     "output_type": "stream",
     "text": [
      "Training Epochs:  25%|██▍       | 1231/5000 [00:07<00:30, 125.04it/s]"
     ]
    },
    {
     "name": "stdout",
     "output_type": "stream",
     "text": [
      "Epoch: 1200, Train Loss: 2.911221981048584, Val Loss: 2.9582037484645842\n"
     ]
    },
    {
     "name": "stderr",
     "output_type": "stream",
     "text": [
      "Training Epochs:  28%|██▊       | 1421/5000 [00:08<00:28, 126.85it/s]"
     ]
    },
    {
     "name": "stdout",
     "output_type": "stream",
     "text": [
      "Epoch: 1400, Train Loss: 2.732435464859009, Val Loss: 2.8974747002124785\n"
     ]
    },
    {
     "name": "stderr",
     "output_type": "stream",
     "text": [
      "Training Epochs:  32%|███▏      | 1619/5000 [00:09<00:30, 112.32it/s]"
     ]
    },
    {
     "name": "stdout",
     "output_type": "stream",
     "text": [
      "Epoch: 1600, Train Loss: 3.0408029556274414, Val Loss: 2.8946908688545228\n"
     ]
    },
    {
     "name": "stderr",
     "output_type": "stream",
     "text": [
      "Training Epochs:  36%|███▌      | 1809/5000 [00:11<00:28, 113.79it/s]"
     ]
    },
    {
     "name": "stdout",
     "output_type": "stream",
     "text": [
      "Epoch: 1800, Train Loss: 2.563445806503296, Val Loss: 2.8202089047431946\n"
     ]
    },
    {
     "name": "stderr",
     "output_type": "stream",
     "text": [
      "Training Epochs:  40%|████      | 2022/5000 [00:12<00:29, 101.13it/s]"
     ]
    },
    {
     "name": "stdout",
     "output_type": "stream",
     "text": [
      "Epoch: 2000, Train Loss: 3.221748113632202, Val Loss: 2.7686537432670595\n"
     ]
    },
    {
     "name": "stderr",
     "output_type": "stream",
     "text": [
      "Training Epochs:  45%|████▍     | 2227/5000 [00:14<00:24, 112.39it/s]"
     ]
    },
    {
     "name": "stdout",
     "output_type": "stream",
     "text": [
      "Epoch: 2200, Train Loss: 3.025428056716919, Val Loss: 2.7483159244060515\n"
     ]
    },
    {
     "name": "stderr",
     "output_type": "stream",
     "text": [
      "Training Epochs:  48%|████▊     | 2421/5000 [00:15<00:20, 128.58it/s]"
     ]
    },
    {
     "name": "stdout",
     "output_type": "stream",
     "text": [
      "Epoch: 2400, Train Loss: 3.222254514694214, Val Loss: 2.687283924818039\n"
     ]
    },
    {
     "name": "stderr",
     "output_type": "stream",
     "text": [
      "Training Epochs:  53%|█████▎    | 2629/5000 [00:16<00:18, 127.24it/s]"
     ]
    },
    {
     "name": "stdout",
     "output_type": "stream",
     "text": [
      "Epoch: 2600, Train Loss: 2.664768695831299, Val Loss: 2.705757224559784\n"
     ]
    },
    {
     "name": "stderr",
     "output_type": "stream",
     "text": [
      "Training Epochs:  56%|█████▋    | 2824/5000 [00:18<00:16, 133.59it/s]"
     ]
    },
    {
     "name": "stdout",
     "output_type": "stream",
     "text": [
      "Epoch: 2800, Train Loss: 2.6541106700897217, Val Loss: 2.70195885181427\n"
     ]
    },
    {
     "name": "stderr",
     "output_type": "stream",
     "text": [
      "Training Epochs:  61%|██████    | 3038/5000 [00:19<00:15, 127.67it/s]"
     ]
    },
    {
     "name": "stdout",
     "output_type": "stream",
     "text": [
      "Epoch: 3000, Train Loss: 2.1677467823028564, Val Loss: 2.65768724322319\n"
     ]
    },
    {
     "name": "stderr",
     "output_type": "stream",
     "text": [
      "Training Epochs:  65%|██████▍   | 3235/5000 [00:20<00:13, 132.50it/s]"
     ]
    },
    {
     "name": "stdout",
     "output_type": "stream",
     "text": [
      "Epoch: 3200, Train Loss: 3.0206761360168457, Val Loss: 2.640993736386299\n"
     ]
    },
    {
     "name": "stderr",
     "output_type": "stream",
     "text": [
      "Training Epochs:  69%|██████▊   | 3434/5000 [00:22<00:11, 135.94it/s]"
     ]
    },
    {
     "name": "stdout",
     "output_type": "stream",
     "text": [
      "Epoch: 3400, Train Loss: 2.817840814590454, Val Loss: 2.666358770132065\n"
     ]
    },
    {
     "name": "stderr",
     "output_type": "stream",
     "text": [
      "Training Epochs:  72%|███████▏  | 3614/5000 [00:23<00:11, 117.06it/s]"
     ]
    },
    {
     "name": "stdout",
     "output_type": "stream",
     "text": [
      "Epoch: 3600, Train Loss: 2.840182065963745, Val Loss: 2.634136815071106\n"
     ]
    },
    {
     "name": "stderr",
     "output_type": "stream",
     "text": [
      "Training Epochs:  76%|███████▋  | 3822/5000 [00:24<00:09, 118.45it/s]"
     ]
    },
    {
     "name": "stdout",
     "output_type": "stream",
     "text": [
      "Epoch: 3800, Train Loss: 2.2630693912506104, Val Loss: 2.6102201628684996\n"
     ]
    },
    {
     "name": "stderr",
     "output_type": "stream",
     "text": [
      "Training Epochs:  81%|████████  | 4035/5000 [00:26<00:07, 132.47it/s]"
     ]
    },
    {
     "name": "stdout",
     "output_type": "stream",
     "text": [
      "Epoch: 4000, Train Loss: 2.642688512802124, Val Loss: 2.6013960182666778\n"
     ]
    },
    {
     "name": "stderr",
     "output_type": "stream",
     "text": [
      "Training Epochs:  85%|████████▍ | 4231/5000 [00:27<00:05, 131.32it/s]"
     ]
    },
    {
     "name": "stdout",
     "output_type": "stream",
     "text": [
      "Epoch: 4200, Train Loss: 2.861732006072998, Val Loss: 2.593399704694748\n"
     ]
    },
    {
     "name": "stderr",
     "output_type": "stream",
     "text": [
      "Training Epochs:  89%|████████▊ | 4436/5000 [00:28<00:04, 127.38it/s]"
     ]
    },
    {
     "name": "stdout",
     "output_type": "stream",
     "text": [
      "Epoch: 4400, Train Loss: 2.387462854385376, Val Loss: 2.58214755654335\n"
     ]
    },
    {
     "name": "stderr",
     "output_type": "stream",
     "text": [
      "Training Epochs:  93%|█████████▎| 4636/5000 [00:30<00:02, 131.02it/s]"
     ]
    },
    {
     "name": "stdout",
     "output_type": "stream",
     "text": [
      "Epoch: 4600, Train Loss: 2.1232218742370605, Val Loss: 2.619614409208298\n"
     ]
    },
    {
     "name": "stderr",
     "output_type": "stream",
     "text": [
      "Training Epochs:  97%|█████████▋| 4828/5000 [00:31<00:01, 123.29it/s]"
     ]
    },
    {
     "name": "stdout",
     "output_type": "stream",
     "text": [
      "Epoch: 4800, Train Loss: 2.7502715587615967, Val Loss: 2.6101433753967287\n"
     ]
    },
    {
     "name": "stderr",
     "output_type": "stream",
     "text": [
      "Training Epochs: 100%|██████████| 5000/5000 [00:32<00:00, 154.55it/s]\n"
     ]
    }
   ],
   "source": [
    "# Training loop\n",
    "start_time = time.time()\n",
    "for iter in tqdm(range(epochs), desc=\"Training Epochs\"):\n",
    "    # Training phase\n",
    "    model.train()  # Set model to training mode\n",
    "    xb, yb = get_batch('train')\n",
    "    logits, train_loss = model(xb, yb)\n",
    "\n",
    "    # Zero gradients, backward pass, and optimizer step\n",
    "    optimizer.zero_grad(set_to_none=True)\n",
    "    train_loss.backward()\n",
    "    optimizer.step()\n",
    "    train_losses.append(train_loss.item())\n",
    "\n",
    "    # Evaluation phase every eval_iter\n",
    "    if iter % eval_iter == 0:\n",
    "        model.eval()  # Set model to evaluation mode\n",
    "        val_losses_list = []\n",
    "\n",
    "        for _ in range(eval_iter):\n",
    "            with torch.no_grad():  # Disable gradient calculation\n",
    "                X_val, Y_val = get_batch('val')\n",
    "                logits, val_loss = model(X_val, Y_val)\n",
    "                val_losses_list.append(val_loss.item())\n",
    "        \n",
    "        # Calculate mean of validation losses\n",
    "        avg_val_loss = sum(val_losses_list) / len(val_losses_list)\n",
    "\n",
    "        # Log and print average train and validation losses\n",
    "        print(f\"Epoch: {iter}, Train Loss: {train_loss.item()}, Val Loss: {avg_val_loss}\")\n",
    "        # wandb.log({\n",
    "        #     'train_loss': train_loss.item(),\n",
    "        #     'val_loss': avg_val_loss\n",
    "        # })\n",
    "\n",
    "        # Track best losses\n",
    "        if train_loss.item() < best_train_loss:\n",
    "            best_train_loss = train_loss.item()\n",
    "        if avg_val_loss < best_val_loss:\n",
    "            best_val_loss = avg_val_loss\n",
    "        val_losses.append(avg_val_loss)\n",
    "\n",
    "end_time = time.time()\n",
    "train_time = end_time - start_time"
   ]
  },
  {
   "cell_type": "code",
   "execution_count": 22,
   "metadata": {},
   "outputs": [
    {
     "name": "stdout",
     "output_type": "stream",
     "text": [
      "****************************************************************************************************\n"
     ]
    }
   ],
   "source": [
    "print(100*'*')\n",
    "# Load best losses from JSON file if it exists\n",
    "best_losses_file = 'best_losses.json'\n",
    "try:\n",
    "    with open(best_losses_file, 'r') as f:\n",
    "        best_losses = json.load(f)\n",
    "        best_train_loss = best_losses.get('best_train_loss', best_train_loss)\n",
    "        best_val_loss = best_losses.get('best_val_loss', best_val_loss)\n",
    "except FileNotFoundError:\n",
    "    best_losses = {\n",
    "        'best_train_loss': best_train_loss,\n",
    "        'best_val_loss': best_val_loss\n",
    "    }\n",
    "    with open(best_losses_file, 'w') as f:\n",
    "        json.dump(best_losses, f)"
   ]
  },
  {
   "cell_type": "code",
   "execution_count": 23,
   "metadata": {},
   "outputs": [
    {
     "name": "stdout",
     "output_type": "stream",
     "text": [
      "Generated Text:\n",
      "\n",
      "Sroko tes nRhol:\n",
      "S berme pllresepy? ollopy'de thount ary Thangic the, handes the maousd t save frkofEIs,\n",
      "The nocore I witisohe l hainss r,\n",
      "E flldiO,\n",
      "Gomeshoulr th fimewenchdoly telelu n? cvourteve t Werotho y e laxr'nd cc.\n",
      " x.\n",
      "A,n meno lobld:r ces berorele hiveho f t?\n",
      "Hhe.\n",
      "Jn hed b niyharo ave d pe\n",
      "!anortinfory tedlhour s.\n",
      ":\n",
      "\n",
      "Nhe\n",
      " 'gall t'd bef wanorehe,nngou th, iske ia\n",
      "NreniSps heem, tindle ve, coanut,\n",
      "Su a k bather canf, hde t fars, erobe,\n",
      "TE.\n",
      "\n",
      "DLYe.:\n",
      "MBast the t ayetErene foes,h ie oser t thar nrgolt athe thoutowensurararof s Er.\n",
      "Dzrve, pis, ives ngan tH:\n",
      "Whoug.\n",
      "\n",
      "D oIAC\n",
      "Thos cG sheaket's nginn:\n",
      "Ix\n",
      "S:\n",
      "OWand-- t ve anthat igt clealleD? ot we  anThecaresthses, a\n",
      "KL-epo win pe ' s'dors Rurhek\n",
      "Ado f Jturll y isiworr: chte berraany t singig Gos: s ausFo tall.\n",
      "Ds pe, bolou r rend mit,\n",
      "We f-?it!\n",
      "T;\n",
      "\n",
      "IKACO'do q'd asasthef :\n",
      "Whesus; trirceali, t llaor, y t yot hou hod r qereat, r\n",
      "ESdom:\n",
      "L\n",
      "?INGano f I thandiouc, te tharshok, be,\n",
      "HB\n",
      "Am theiy avem ash n, y LAgthiu tr'sd gredy funs;\n",
      "Matt.\n",
      "Xmelenoatior he'tpitas S: n nee? orshet shesre  co tHl,\n",
      "KL\n",
      "To VT'dos l y I fnaiteo I  Vore mim.\n",
      "\n",
      "Nl.med mintha-\n",
      "UGO, haanp chesdoed tEr wimaelrs aleco KEO' u por-lrad.y\n",
      "IY\n",
      "Tgoquth t,\n",
      "Avir be te he ' eme t'bnom we thengrur fiveg boWo he, r ntou sheverae, g asdurere thad helauntot gthee fr'golk,\n",
      "\n",
      "Ha f t hitth rcetot t merertewil.\n",
      "To; tce'ee f FwenUnirlllrpoilloie,, y beragr g'darnth b.\n",
      "athabry d youroar ate y y; hyo bfhey rEU\n",
      "\n",
      "\n",
      "IALRHFENADKAw\n",
      "WGUIasgonvIOO, jG:\n",
      "Ianourrt tcRuis y\n",
      "TowiYase .\n",
      "Ybee il!\n",
      "EMA?\n",
      "A?Tkoom Iun os alepis lorius aI hr necof hemrtheri ;I:\n",
      "\n",
      "CUu; wh itond n ithesiecoyolf I:\n",
      "Bnme'd,\n",
      "M\n",
      "IODhocC-\n",
      "Anou\n",
      "Wh.\n",
      "Rgot s wrhiwoce myor, Oint loveand whhoutilngr?Ay loure et hoke thaverl.\n",
      "\n",
      "Fo,\n",
      "AMDbsX hind b ch\n",
      "Aqote I maniseat bit sturmey amiverie ms tound ath ay, aye athashea oisiur mther he theundFou tngorst grge hama\n",
      "\n",
      "MAnAde h'd isan:\n",
      "Tous m winde C\n",
      "Gde, tho:\n",
      "Aq these f, f hese sert anand prony sel.\n",
      "\n",
      "W:\n",
      "'n's\n",
      ":\n",
      "F helelaitm pow'decu I tho i,re sore tais t fhes boreser th Calis,\n",
      "We llancmeonse\n"
     ]
    }
   ],
   "source": [
    "print(f\"Generated Text:\")\n",
    "idx = torch.zeros((1,1), dtype=torch.long)\n",
    "generated_text = decode(model.generate(idx, max_new_tokens=2000)[0].tolist())\n",
    "print(generated_text)"
   ]
  },
  {
   "cell_type": "code",
   "execution_count": 24,
   "metadata": {},
   "outputs": [
    {
     "name": "stdout",
     "output_type": "stream",
     "text": [
      "Current run did not beat the best losses. Generated text not saved.\n",
      "****************************************************************************************************\n",
      "****************************************************************************************************\n"
     ]
    }
   ],
   "source": [
    "# Check if current run has better losses\n",
    "if best_train_loss < best_losses.get('best_train_loss', float('inf')) or best_val_loss < best_losses.get('best_val_loss', float('inf')):\n",
    "    # Save generated text to file\n",
    "    with open('generated_shakespeare_text.txt', 'w') as f:\n",
    "        f.write(generated_text)\n",
    "\n",
    "    # Update best losses and save to JSON file\n",
    "    best_losses['best_train_loss'] = best_train_loss\n",
    "    best_losses['best_val_loss'] = best_val_loss\n",
    "    with open(best_losses_file, 'w') as f:\n",
    "        json.dump(best_losses, f)\n",
    "\n",
    "    # Have wandb save the text file\n",
    "    wandb.save('generated_shakespeare_text.txt')\n",
    "    # also save an image of the training and validation loss curves\n",
    "    plt.plot(train_losses, label='train loss')\n",
    "    plt.plot(val_losses, label='val loss')\n",
    "    plt.legend()\n",
    "    plt.savefig('train_val_loss.png')\n",
    "    wandb.save('train_val_loss.png')\n",
    "    print(\"Current run beat the best losses. Generated text saved.\")\n",
    "\n",
    "else:\n",
    "    print(\"Current run did not beat the best losses. Generated text not saved.\")\n",
    "print(100*'*')\n",
    "print(100*'*')"
   ]
  },
  {
   "cell_type": "code",
   "execution_count": 25,
   "metadata": {},
   "outputs": [
    {
     "name": "stdout",
     "output_type": "stream",
     "text": [
      "Best Train Loss: 2.1232218742370605\n",
      "Best Validation Loss: 2.58214755654335\n",
      "Total number of parameters in the model: 29697\n",
      "Total number of tokens in the dataset: 1115394\n",
      "According to Chinchilla Law, you need at least 59394 tokens to train this model.\n"
     ]
    }
   ],
   "source": [
    "print(f\"Best Train Loss: {best_train_loss}\")\n",
    "print(f\"Best Validation Loss: {best_val_loss}\")\n",
    "# show total number of parameters in the model\n",
    "total_params = sum(p.numel() for p in model.parameters())\n",
    "print(f\"Total number of parameters in the model: {total_params}\")\n",
    "# show toal number of tokens in the dataset\n",
    "total_tokens = len(data)\n",
    "print(f\"Total number of tokens in the dataset: {total_tokens}\")\n",
    "print(f\"According to Chinchilla Law, you need at least {total_params * 2} tokens to train this model.\") # TODO: work on this"
   ]
  },
  {
   "cell_type": "code",
   "execution_count": 27,
   "metadata": {},
   "outputs": [
    {
     "name": "stdout",
     "output_type": "stream",
     "text": [
      "Total time to train model up to 5000 epochs: 32.37 seconds\n"
     ]
    }
   ],
   "source": [
    "# Ensure train_time and other parameters are defined before logging\n",
    "# wandb.log({\n",
    "#     'epochs': epochs,\n",
    "#     \"learning_rate\": learning_rate,\n",
    "#     \"block_size\": block_size,\n",
    "#     \"batch_size\": batch_size,\n",
    "#     \"embedding_size\": n_emb,\n",
    "#     \"optimizer\": \"AdamW\",\n",
    "#     \"device\": device,\n",
    "#     \"vocab_size\": vocab_size,\n",
    "#     \"best_train_loss\": best_train_loss,\n",
    "#     \"best_val_loss\": best_val_loss,\n",
    "#     'Training Time': train_time, \n",
    "#     'dropout': dropout,\n",
    "#     'n_layer': n_layer,\n",
    "#     'n_heads': n_heads,\n",
    "#     'train_test_split': train_test_split,\n",
    "#     'total_params': total_params\n",
    "# })\n",
    "\n",
    "print(f\"Total time to train model up to {epochs} epochs: {train_time:.2f} seconds\")\n",
    "wandb.finish()"
   ]
  },
  {
   "cell_type": "code",
   "execution_count": null,
   "metadata": {},
   "outputs": [],
   "source": []
  },
  {
   "cell_type": "code",
   "execution_count": null,
   "metadata": {},
   "outputs": [],
   "source": []
  },
  {
   "cell_type": "code",
   "execution_count": null,
   "metadata": {},
   "outputs": [],
   "source": []
  },
  {
   "cell_type": "code",
   "execution_count": null,
   "metadata": {},
   "outputs": [],
   "source": []
  },
  {
   "cell_type": "code",
   "execution_count": null,
   "metadata": {},
   "outputs": [],
   "source": []
  },
  {
   "cell_type": "code",
   "execution_count": null,
   "metadata": {},
   "outputs": [],
   "source": []
  },
  {
   "cell_type": "code",
   "execution_count": null,
   "metadata": {},
   "outputs": [],
   "source": []
  },
  {
   "cell_type": "code",
   "execution_count": null,
   "metadata": {},
   "outputs": [],
   "source": []
  },
  {
   "cell_type": "code",
   "execution_count": null,
   "metadata": {},
   "outputs": [],
   "source": []
  },
  {
   "cell_type": "code",
   "execution_count": null,
   "metadata": {},
   "outputs": [],
   "source": []
  },
  {
   "cell_type": "code",
   "execution_count": null,
   "metadata": {},
   "outputs": [],
   "source": []
  },
  {
   "cell_type": "code",
   "execution_count": null,
   "metadata": {},
   "outputs": [],
   "source": []
  },
  {
   "cell_type": "code",
   "execution_count": null,
   "metadata": {},
   "outputs": [],
   "source": []
  }
 ],
 "metadata": {
  "kernelspec": {
   "display_name": "ML-AI",
   "language": "python",
   "name": "python3"
  },
  "language_info": {
   "codemirror_mode": {
    "name": "ipython",
    "version": 3
   },
   "file_extension": ".py",
   "mimetype": "text/x-python",
   "name": "python",
   "nbconvert_exporter": "python",
   "pygments_lexer": "ipython3",
   "version": "3.11.4"
  }
 },
 "nbformat": 4,
 "nbformat_minor": 2
}
