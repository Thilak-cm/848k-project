{
 "cells": [
  {
   "cell_type": "markdown",
   "metadata": {},
   "source": [
    "# lets build a name generator, but this time use more than one previous character as context"
   ]
  },
  {
   "cell_type": "code",
   "execution_count": 1,
   "metadata": {},
   "outputs": [],
   "source": [
    "import torch\n",
    "import torch.nn.functional as F\n",
    "import matplotlib.pyplot as plt\n",
    "%matplotlib inline"
   ]
  },
  {
   "cell_type": "code",
   "execution_count": 2,
   "metadata": {},
   "outputs": [
    {
     "data": {
      "text/plain": [
       "['emma',\n",
       " 'olivia',\n",
       " 'ava',\n",
       " 'isabella',\n",
       " 'sophia',\n",
       " 'charlotte',\n",
       " 'mia',\n",
       " 'amelia',\n",
       " 'harper',\n",
       " 'evelyn']"
      ]
     },
     "execution_count": 2,
     "metadata": {},
     "output_type": "execute_result"
    }
   ],
   "source": [
    "# pull text file\n",
    "names = open('names.txt').read().splitlines()\n",
    "names[:10]"
   ]
  },
  {
   "cell_type": "code",
   "execution_count": 3,
   "metadata": {},
   "outputs": [
    {
     "name": "stdout",
     "output_type": "stream",
     "text": [
      "{'.': 0, 'a': 1, 'b': 2, 'c': 3, 'd': 4, 'e': 5, 'f': 6, 'g': 7, 'h': 8, 'i': 9, 'j': 10, 'k': 11, 'l': 12, 'm': 13, 'n': 14, 'o': 15, 'p': 16, 'q': 17, 'r': 18, 's': 19, 't': 20, 'u': 21, 'v': 22, 'w': 23, 'x': 24, 'y': 25, 'z': 26}\n"
     ]
    }
   ],
   "source": [
    "# create vocab list\n",
    "vocab = sorted(list(set(''.join(names))))\n",
    "\n",
    "# create tokenizer encoder\n",
    "stoi = {}\n",
    "# make the model hallucinate a start token so that we can propmt it to generate a name\n",
    "# stoi is String TO Integer\n",
    "stoi['.'] = 0\n",
    "stoi.update({s:i+1 for i, s in enumerate(vocab)})\n",
    "\n",
    "# create tokenizer decoder\n",
    "# itos is Integer TO String\n",
    "itos = {}\n",
    "# make the model hallucinate an end token so that it knows when to end the name during generation\n",
    "itos[0] = '.'\n",
    "itos.update({i+1:s for i, s in enumerate(vocab)})\n",
    "print(stoi)"
   ]
  },
  {
   "cell_type": "code",
   "execution_count": 4,
   "metadata": {},
   "outputs": [],
   "source": [
    "# how many characters we're using as context to predict the next --> block size\n",
    "block_size = 3\n",
    "# create dataset\n",
    "X, Y = [], []\n",
    "for name in names[:5]: # iterate over all names in dataset\n",
    "    # start with block size number of starting tokens to trigger the first character\n",
    "    context = [0] * block_size\n",
    "    # hallucinate an end token\n",
    "    name += '.'\n",
    "    for ch in name: # iterate over each character\n",
    "        X.append(context)\n",
    "        Y.append(stoi[ch])\n",
    "        # print(f\"context: {''.join([itos[i] for i in context])} --> {ch}\")\n",
    "        # left shift context and append next character\n",
    "        context = context[1:] + [stoi[ch]]\n",
    "X = torch.tensor(X)\n",
    "Y = torch.tensor(Y)"
   ]
  },
  {
   "cell_type": "code",
   "execution_count": 5,
   "metadata": {},
   "outputs": [
    {
     "name": "stdout",
     "output_type": "stream",
     "text": [
      "torch.Size([32, 3]) torch.Size([32])\n"
     ]
    }
   ],
   "source": [
    "print(X.shape, Y.shape)"
   ]
  },
  {
   "cell_type": "markdown",
   "metadata": {},
   "source": [
    "### what does it mean when embedding (emb) matrix is of shape: [32, 3, 2]\n",
    "### there are 32 training examples, each of which has three characters (block size). and each character is represented (squashed down) to 2 dimensions"
   ]
  },
  {
   "cell_type": "markdown",
   "metadata": {},
   "source": [
    "### one hot encoding dot product with a matrix is equivalent to plucking out a single row. this can be thought of a first layer of the network where we obtain the embeddings for each tokenized vector. for now we'll settle with pytorch slicing which also allows this "
   ]
  },
  {
   "cell_type": "code",
   "execution_count": 33,
   "metadata": {},
   "outputs": [
    {
     "data": {
      "text/plain": [
       "3481"
      ]
     },
     "execution_count": 33,
     "metadata": {},
     "output_type": "execute_result"
    }
   ],
   "source": [
    "# initialize params\n",
    "C = torch.randn((27, 2))\n",
    "W1 = torch.randn((6, 100)) # 6 because we give 3 characters at a time, and each has 2 numbers to represent them. so 6 in all\n",
    "b1 = torch.randn(100)\n",
    "W2 = torch.randn((100, 27))\n",
    "b2 = torch.randn(27)\n",
    "parameters = [W1, b1, W2, b2, C]\n",
    "sum(p.nelement() for p in parameters)"
   ]
  },
  {
   "cell_type": "code",
   "execution_count": 34,
   "metadata": {},
   "outputs": [],
   "source": [
    "for p in parameters:\n",
    "    p.requires_grad = True"
   ]
  },
  {
   "cell_type": "code",
   "execution_count": 35,
   "metadata": {},
   "outputs": [
    {
     "name": "stdout",
     "output_type": "stream",
     "text": [
      "Epoch: 0, loss: 21.739755630493164\n",
      "Epoch: 100, loss: 0.510592520236969\n",
      "Epoch: 200, loss: 0.3175155818462372\n",
      "Epoch: 300, loss: 0.2780958414077759\n",
      "Epoch: 400, loss: 0.26773133873939514\n",
      "Epoch: 500, loss: 0.26303350925445557\n",
      "Epoch: 600, loss: 0.2603802978992462\n",
      "Epoch: 700, loss: 0.25868600606918335\n",
      "Epoch: 800, loss: 0.25751498341560364\n",
      "Epoch: 900, loss: 0.25665971636772156\n"
     ]
    },
    {
     "data": {
      "text/plain": [
       "[<matplotlib.lines.Line2D at 0x1520b0e50>]"
      ]
     },
     "execution_count": 35,
     "metadata": {},
     "output_type": "execute_result"
    },
    {
     "data": {
      "image/png": "[encoded data removed]",
      "text/plain": [
       "<Figure size 640x480 with 1 Axes>"
      ]
     },
     "metadata": {},
     "output_type": "display_data"
    }
   ],
   "source": [
    "losses = []\n",
    "epochs = 1000\n",
    "for i in range(epochs):\n",
    "    # forward pass\n",
    "    emb = C[X]\n",
    "    # layer 1\n",
    "    h = torch.tanh(emb.view(-1, 6) @ W1 + b1)\n",
    "    # layer 2\n",
    "    logits = h @ W2 + b2\n",
    "    # probs = torch.softmax(logits, 1) # softmax along dimension 1\n",
    "    # loss = -torch.log(probs[torch.arange(X.shape[0]), Y]).mean() # calculate NLL for all X.shape[0] examples (akin to batch size)\n",
    "    loss = F.cross_entropy(logits, Y) # does the same thing the above two lines does\n",
    "    # backprop\n",
    "    for p in parameters:\n",
    "        p.grad = None\n",
    "    loss.backward()\n",
    "    # gradient update\n",
    "    for p in parameters:\n",
    "        p.data += -0.1*p.grad\n",
    "    losses.append(loss.item())\n",
    "    if i % 100 == 0:\n",
    "        print(f\"Epoch: {i}, loss: {loss.item()}\")\n",
    "\n",
    "plt.plot(losses)"
   ]
  },
  {
   "cell_type": "code",
   "execution_count": null,
   "metadata": {},
   "outputs": [],
   "source": []
  },
  {
   "cell_type": "code",
   "execution_count": null,
   "metadata": {},
   "outputs": [],
   "source": []
  },
  {
   "cell_type": "code",
   "execution_count": null,
   "metadata": {},
   "outputs": [],
   "source": []
  },
  {
   "cell_type": "code",
   "execution_count": null,
   "metadata": {},
   "outputs": [],
   "source": []
  },
  {
   "cell_type": "code",
   "execution_count": null,
   "metadata": {},
   "outputs": [],
   "source": [
    "# torch.cat((emb[:, 0, :], emb[:, 1, :], emb[:, 2, :]), 1).shape # --> this doesn't work when we have a bigger batch size\n",
    "# torch.cat(torch.unbind(emb, 1), 1).shape # --> this works better, we unbind the 1st dimension and then concatenate the 1st dimension to match 6 with 6 from the next layer\n"
   ]
  },
  {
   "cell_type": "markdown",
   "metadata": {},
   "source": [
    "# the addition between emb.w1 and b works correctly without additional editing because:\n",
    "emb.w1 shape: 32, 100\n",
    "b1 shape:         100\n",
    "pytorch broadcasting rules matches the right dim, then fills the left ones with 1 if its missing, and then 1 is broadcasted to match whatever is above it\n",
    "b1 broadcasted shape: 1, 100 to 32, 100"
   ]
  },
  {
   "cell_type": "code",
   "execution_count": null,
   "metadata": {},
   "outputs": [],
   "source": []
  },
  {
   "cell_type": "code",
   "execution_count": null,
   "metadata": {},
   "outputs": [],
   "source": []
  }
 ],
 "metadata": {
  "kernelspec": {
   "display_name": "ML-AI",
   "language": "python",
   "name": "python3"
  },
  "language_info": {
   "codemirror_mode": {
    "name": "ipython",
    "version": 3
   },
   "file_extension": ".py",
   "mimetype": "text/x-python",
   "name": "python",
   "nbconvert_exporter": "python",
   "pygments_lexer": "ipython3",
   "version": "3.11.4"
  }
 },
 "nbformat": 4,
 "nbformat_minor": 2
}
