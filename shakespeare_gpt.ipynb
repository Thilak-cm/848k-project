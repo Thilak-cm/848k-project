{
 "cells": [
  {
   "cell_type": "code",
   "execution_count": 1,
   "metadata": {},
   "outputs": [
    {
     "data": {
      "text/plain": [
       "<torch._C.Generator at 0x12c31a170>"
      ]
     },
     "execution_count": 1,
     "metadata": {},
     "output_type": "execute_result"
    }
   ],
   "source": [
    "import matplotlib.pyplot as plt\n",
    "import torch\n",
    "import torch.nn as nn\n",
    "from torch.nn import functional as F\n",
    "import wandb\n",
    "from tqdm import tqdm\n",
    "import time\n",
    "import json\n",
    "torch.manual_seed(1337)"
   ]
  },
  {
   "cell_type": "code",
   "execution_count": 2,
   "metadata": {},
   "outputs": [],
   "source": [
    "# # initialize wandb\n",
    "# wandb.init(project=\"GPT 2 848K\")\n",
    "# wandb.run.tags = ['GPT 1', 'test run']"
   ]
  },
  {
   "cell_type": "code",
   "execution_count": 3,
   "metadata": {},
   "outputs": [],
   "source": [
    "# pull from local folder\n",
    "filename = 'tinyshakespeare.txt'\n",
    "with open(filename, 'r') as f:\n",
    "    text = f.read()"
   ]
  },
  {
   "cell_type": "code",
   "execution_count": 85,
   "metadata": {},
   "outputs": [],
   "source": [
    "# TODO: count how many params you're using in this code, and implement chinchilla law to understand how much data you need to ensure you aren't under training\n",
    "# get vocab\n",
    "vocab = list(sorted(set(text)))\n",
    "vocab_size = len(vocab)\n",
    "# embedding dimensions \n",
    "n_emb = 4 # 32\n",
    "learning_rate = 1e-4\n",
    "epochs = 5000\n",
    "batch_size = 4 # how many sequences we will process in parallel, each of these sequences is block_size long\n",
    "block_size = 4 # 8 # the length of each sequence\n",
    "# how often to evaluate loss\n",
    "eval_iter = 200\n",
    "# number of blocks in the transformer\n",
    "n_layer = 2\n",
    "# number of heads in the transformer\n",
    "n_heads = 2\n",
    "# each head size is n_emb // n_heads = 32 // 2 = 16\n",
    "dropout = 0.2 # 20% will be zeroed out\n",
    "train_test_split = 0.9 # 85% of data will be used for training\n",
    "device = 'mps' if torch.backends.mps.is_available() else 'cpu'"
   ]
  },
  {
   "cell_type": "code",
   "execution_count": 86,
   "metadata": {},
   "outputs": [],
   "source": [
    "# character level encoding and decoding\n",
    "stoi = {c: i for i, c in enumerate(vocab)}\n",
    "# itos = {i: c for i, c in enumerate(vocab)}\n",
    "# alternate way of creating decoder func\n",
    "itos = {i: c for c, i in stoi.items()}\n",
    "encode = lambda x: [stoi[c] for c in x]\n",
    "decode = lambda x: ''.join([itos[i] for i in x])"
   ]
  },
  {
   "cell_type": "code",
   "execution_count": 87,
   "metadata": {},
   "outputs": [],
   "source": [
    "# encode full dataset\n",
    "data = torch.tensor(encode(text), dtype=torch.long)\n",
    "\n",
    "# train test split\n",
    "train_size = int(train_test_split * len(data))\n",
    "train_data = data[:train_size]\n",
    "test_data = data[train_size:]"
   ]
  },
  {
   "cell_type": "code",
   "execution_count": null,
   "metadata": {},
   "outputs": [],
   "source": []
  },
  {
   "cell_type": "code",
   "execution_count": 88,
   "metadata": {},
   "outputs": [],
   "source": [
    "def get_batch(split):\n",
    "    data = train_data if split == 'train' else test_data\n",
    "    ix = torch.randint(len(data) - block_size, (batch_size,))\n",
    "    x = torch.stack([data[i:i+block_size] for i in ix])\n",
    "    y = torch.stack([data[i+1:i+block_size+1] for i in ix])\n",
    "    return x, y"
   ]
  },
  {
   "cell_type": "code",
   "execution_count": 89,
   "metadata": {},
   "outputs": [
    {
     "data": {
      "text/plain": [
       "tensor([ 0, -2])"
      ]
     },
     "execution_count": 89,
     "metadata": {},
     "output_type": "execute_result"
    }
   ],
   "source": [
    "-torch.arange(0, n_emb, 2)"
   ]
  },
  {
   "cell_type": "code",
   "execution_count": 129,
   "metadata": {},
   "outputs": [
    {
     "data": {
      "text/plain": [
       "tensor([ 0, -1])"
      ]
     },
     "execution_count": 129,
     "metadata": {},
     "output_type": "execute_result"
    }
   ],
   "source": [
    "-torch.arange(0, n_emb // 2)"
   ]
  },
  {
   "cell_type": "code",
   "execution_count": null,
   "metadata": {},
   "outputs": [],
   "source": [
    "def create_rotary_embeddings(self):\n",
    "        '''rotary position embedding, as described in the RoPE paper'''\n",
    "        # N is typically set to 10,000 in RoPE implementations\n",
    "        # Generate base theta values, each value corresponds to a \"pair\" and repeats twice\n",
    "        theta = torch.pow(self.base, -2 * torch.arange(0, n_emb // 2).float() / n_emb)\n",
    "        pos = torch.arange(block_size, dtype=theta.dtype, device=theta.device)\n",
    "        idx_theta = pos.view(-1, 1) * theta.view(1, -1)\n",
    "        # cache the sin and cos values of idx_theta for faster computation\n",
    "        cache = torch.stack((torch.cos(idx_theta), torch.sin(idx_theta)), dim=-1)\n",
    "        self.register_buffer('cache', cache, persistent=False) # TODO: understand why persistent=False\n",
    "\n",
    "        return theta, pos, idx_theta, cache"
   ]
  },
  {
   "cell_type": "code",
   "execution_count": null,
   "metadata": {},
   "outputs": [],
   "source": [
    "class RotaryPositionEmbeddings(nn.Module):\n",
    "    '''rotary position embeddings, as described in the RoPE paper'''\n",
    "    def __init__(self):\n",
    "        super().__init__()\n",
    "        self.base = 10_000\n",
    "        theta = torch.pow(self.base, -2 * torch.arange(0, n_emb // 2).float() / n_emb)\n",
    "        pos = torch.arange(block_size, dtype=theta.dtype, device=theta.device)\n",
    "        idx_theta = pos.view(-1, 1) * theta.view(1, -1)\n",
    "        # cache the sin and cos values of idx_theta for faster computation\n",
    "        cache = torch.stack((torch.cos(idx_theta), torch.sin(idx_theta)), dim=-1)\n",
    "        self.register_buffer('cache', cache, persistent=False)\n",
    "\n",
    "    def forward(self, x):"
   ]
  },
  {
   "cell_type": "code",
   "execution_count": null,
   "metadata": {},
   "outputs": [],
   "source": [
    "class AttentionHead(nn.Module):\n",
    "    '''one head of self-attention'''\n",
    "\n",
    "    def __init__(self, head_size):\n",
    "        super().__init__()\n",
    "        # usually bias is not used in self-attention TODO: understand better why\n",
    "        self.key = nn.Linear(n_emb, head_size, bias=False)\n",
    "        self.query = nn.Linear(n_emb, head_size, bias=False)\n",
    "        self.value = nn.Linear(n_emb, head_size, bias=False)\n",
    "        self.base = 10_000\n",
    "        # triangular mask to prevent attending to future tokens\n",
    "        self.register_buffer('tril', torch.tril(torch.ones(block_size, block_size)))\n",
    "        # using register buffer ensures that tril is not initialized as a param, so it won't be optimized during training\n",
    "        self.dropout = nn.Dropout(dropout)\n",
    "        self.rope = RotaryPositionEmbeddings()\n",
    "    \n",
    "    def forward(self, x):\n",
    "        B, T, C = x.shape\n",
    "        k = self.key(x) # BxTxC\n",
    "        q = self.query(x) # BxTxC\n",
    "        v = self.value(x) # BxTxC\n",
    "\n",
    "        q = self.rope(q)\n",
    "        k = self.rope(k)\n",
    "        \n",
    "        # compute attention scores\n",
    "        # could potentially be optimized by using einsum? TODO: understand how\n",
    "        # could potentially use lora's code to optimize this\n",
    "        wei = q @ k.transpose(-2, -1) * C ** -0.5 # BxTxC @ BxCxT (because of transposing second last and last dim of k) --> BxTxT\n",
    "        # BxTxT: the TxT part of this attention matrix is where the quadratic complexity dependent on context length comes from\n",
    "        # * C ** -0.5 is the one over root dk scaling factor in the attention formula\n",
    "        wei = wei.masked_fill(self.tril[:T, :T] == 0, float('-inf')) # wherever tril is 0, in that position of wei, replace existing value with -inf\n",
    "        # :T, :T is sliced to prevent index out of bounds error (for the case where block_size is not equal to T)\n",
    "        wei = torch.softmax(wei, dim=-1) # TODO: understand why we softmax on the last dim\n",
    "        wei = self.dropout(wei) # dropout on attention scores, randomly set some of them to 0\n",
    "        # perform aggregation of values with attention scores\n",
    "        out = wei @ v # BxTxT @ BxTxC --> BxTxC\n",
    "        # out = F.scaled_dot_product_attention(q, k, v, is_causal=True) # BxTxC\n",
    "        # back to the dims we started with\n",
    "        return out"
   ]
  },
  {
   "cell_type": "code",
   "execution_count": 101,
   "metadata": {},
   "outputs": [],
   "source": [
    "x = AttentionHead(n_emb // n_heads)\n",
    "theta, pos, idx, cache = x.create_rotary_embeddings()"
   ]
  },
  {
   "cell_type": "code",
   "execution_count": 106,
   "metadata": {},
   "outputs": [
    {
     "data": {
      "text/plain": [
       "torch.Size([4, 2])"
      ]
     },
     "execution_count": 106,
     "metadata": {},
     "output_type": "execute_result"
    }
   ],
   "source": [
    "# theta.shape, pos.shape, idx.shape\n",
    "torch.cos(idx).shape"
   ]
  },
  {
   "cell_type": "code",
   "execution_count": 108,
   "metadata": {},
   "outputs": [
    {
     "data": {
      "text/plain": [
       "tensor([[[ 1.0000,  0.0000],\n",
       "         [ 1.0000,  0.0000]],\n",
       "\n",
       "        [[ 0.5403,  0.8415],\n",
       "         [ 0.9999,  0.0100]],\n",
       "\n",
       "        [[-0.4161,  0.9093],\n",
       "         [ 0.9998,  0.0200]],\n",
       "\n",
       "        [[-0.9900,  0.1411],\n",
       "         [ 0.9996,  0.0300]]])"
      ]
     },
     "execution_count": 108,
     "metadata": {},
     "output_type": "execute_result"
    }
   ],
   "source": [
    "cache"
   ]
  },
  {
   "cell_type": "code",
   "execution_count": 110,
   "metadata": {},
   "outputs": [],
   "source": [
    "class MultiHeadAttention(nn.Module):\n",
    "    '''multi headed self attention'''\n",
    "\n",
    "    def __init__(self, num_heads, head_size):\n",
    "        super().__init__() # This initializes nn.Module (parent class from which MultiHeadAttention inherits from) before \n",
    "        # initializing anything in this child class\n",
    "        self.heads = nn.ModuleList([AttentionHead(head_size) for _ in range(num_heads)])\n",
    "        self.projection = nn.Linear(n_emb, n_emb) # linear layer to project concatenated heads output back to n_emb\n",
    "        # project back into the residual pathway\n",
    "        self.dropout = nn.Dropout(dropout)\n",
    "    \n",
    "    def forward(self, x):\n",
    "        out = torch.cat([h(x) for h in self.heads], dim=-1) # BxTxC\n",
    "        out = self.projection(out)\n",
    "        return self.dropout(out)"
   ]
  },
  {
   "cell_type": "code",
   "execution_count": 111,
   "metadata": {},
   "outputs": [],
   "source": [
    "class FeedForwardNN(nn.Module):\n",
    "    '''simple one layer linear nn'''\n",
    "\n",
    "    def __init__(self, n_emb):\n",
    "        super().__init__()\n",
    "        self.net = nn.Sequential(\n",
    "            nn.Linear(n_emb, 4 * n_emb), # add a factor of 4 to n_emb as per GPT-2, just to make it more expressive, increasing complexity and computation\n",
    "            nn.ReLU(), # TODO: use GELU instead of ReLU\n",
    "            nn.Linear(4 * n_emb, n_emb), # linear projection back into the residual pathway\n",
    "            nn.Dropout(dropout) # add right before connetion before residual connection\n",
    "        )\n",
    "    \n",
    "    def forward(self, x):\n",
    "        return self.net(x)"
   ]
  },
  {
   "cell_type": "code",
   "execution_count": 112,
   "metadata": {},
   "outputs": [],
   "source": [
    "class Block(nn.Module):\n",
    "    '''transformer block: create multiple blocks and concatenate them'''\n",
    "\n",
    "    def __init__(self, n_emb, num_heads):\n",
    "        super().__init__()\n",
    "        head_size = n_emb // num_heads\n",
    "        self.sa = MultiHeadAttention(num_heads, head_size)\n",
    "        self.ffn = FeedForwardNN(n_emb)\n",
    "        self.ln1 = nn.LayerNorm(n_emb)\n",
    "        self.ln2 = nn.LayerNorm(n_emb)\n",
    "\n",
    "    def forward(self, x):\n",
    "        x = x + self.sa(self.ln1(x)) # residual connection # TODO: test using layer norm after sa and ffn as in original transformer paper \n",
    "        # and understand why there was an improvement in the new method\n",
    "        x = x + self.ffn(self.ln2(x)) # residual connection (damn that was a very easy change to make)\n",
    "        return x"
   ]
  },
  {
   "cell_type": "code",
   "execution_count": null,
   "metadata": {},
   "outputs": [],
   "source": [
    "class NanoGPT(nn.Module):\n",
    "    def __init__(self):\n",
    "        super().__init__()\n",
    "        # each token directly reads off the logits for the next token in the lookup table\n",
    "        self.token_embedding_table = nn.Embedding(vocab_size, n_emb) # W_E in GPT-2\n",
    "        self.positional_embedding_table = nn.Embedding(block_size, n_emb) # W_P in GPT-2\n",
    "        self.blocks = nn.Sequential(*[Block(n_emb, num_heads=n_heads) for _ in range(n_layer)]) # 4 blocks as per GPT-2 \n",
    "        # asterisk is used here to unpack the list of blocks so it can be passed as individual elements to nn.Sequential and not as one big list\n",
    "        # also this is just a simpler representation of the previous thing we did, where we had a list of blocks and we individually called them\n",
    "        self.lm_head = nn.Linear(n_emb, vocab_size) # W_o in GPT-2\n",
    "\n",
    "    def forward(self, idx, targets=None):\n",
    "        B, T = idx.shape \n",
    "        # idx and targets are both of shape (batch_size, block_size) aka (B, T)\n",
    "        token_emb = self.token_embedding_table(idx) # Batch x time x channel (here channel is now n_emb)\n",
    "        pos_emb = self.positional_embedding_table(torch.arange(T)) # time x channel\n",
    "        # x = token_emb + pos_emb  # add positional embedding to token embedding\n",
    "        x = token_emb\n",
    "        x = self.blocks(x)\n",
    "        logits = self.lm_head(x) # B, T, vocab size\n",
    "\n",
    "        if targets is None:\n",
    "            loss = None\n",
    "        else:\n",
    "            # loss = F.cross_entropy(logits.view(-1, vocab_size), targets.view(-1)) # we could do this, but its hard to understand, so\n",
    "            B, T, C = logits.shape\n",
    "            logits = logits.view(B*T, C)\n",
    "            targets = targets.view(B*T)\n",
    "            loss = F.cross_entropy(logits, targets) \n",
    "\n",
    "        return logits, loss\n",
    "\n",
    "    # auto regressive generation\n",
    "    def generate(self, idx, max_new_tokens=100):\n",
    "        # idx is BxT\n",
    "        for _ in range(max_new_tokens):\n",
    "            # get the last block_size tokens of the idx\n",
    "            idx_cond = idx[:, -block_size:] # BxT\n",
    "            logits, loss = self(idx_cond)\n",
    "            # pluck out last column in time dimension, because this is the generated predictions for what comes next\n",
    "            logits = logits[:, -1, :] # keep only the last token for each sequence in the batch aka BxC\n",
    "            probs = F.softmax(logits, dim=-1) # BxC\n",
    "            # sample from the distribution\n",
    "            next_token = torch.multinomial(probs, num_samples=1) # Bx1\n",
    "            # append newly generated token to input idx to obtain new input for next generation iteration\n",
    "            idx = torch.cat([idx, next_token], dim=-1) # Bx(T+1) # TODO: understand why this is dim=-1\n",
    "        return idx"
   ]
  },
  {
   "cell_type": "code",
   "execution_count": 114,
   "metadata": {},
   "outputs": [],
   "source": [
    "x = NanoGPT()\n",
    "idx = torch.randint(vocab_size, (2,4))\n",
    "logits, loss = x(idx=idx)"
   ]
  },
  {
   "cell_type": "code",
   "execution_count": 121,
   "metadata": {},
   "outputs": [
    {
     "data": {
      "text/plain": [
       "tensor([[21, 12, 51,  5],\n",
       "        [21,  5, 14, 60]])"
      ]
     },
     "execution_count": 121,
     "metadata": {},
     "output_type": "execute_result"
    }
   ],
   "source": [
    "idx"
   ]
  },
  {
   "cell_type": "code",
   "execution_count": 118,
   "metadata": {},
   "outputs": [
    {
     "data": {
      "text/plain": [
       "torch.Size([2, 2, 2])"
      ]
     },
     "execution_count": 118,
     "metadata": {},
     "output_type": "execute_result"
    }
   ],
   "source": [
    "(idx.reshape(*idx.shape[:-1], -1, 2)).shape"
   ]
  },
  {
   "cell_type": "code",
   "execution_count": null,
   "metadata": {},
   "outputs": [],
   "source": [
    "model = NanoGPT()\n",
    "\n",
    "optimizer = torch.optim.AdamW(model.parameters(), lr=learning_rate) # TODO: try adding a lr schedule"
   ]
  },
  {
   "cell_type": "code",
   "execution_count": null,
   "metadata": {},
   "outputs": [],
   "source": [
    "# Track best losses and store losses for plotting\n",
    "best_train_loss = float('inf')\n",
    "best_val_loss = float('inf')\n",
    "train_losses = []\n",
    "val_losses = []"
   ]
  },
  {
   "cell_type": "code",
   "execution_count": null,
   "metadata": {},
   "outputs": [],
   "source": [
    "# Training loop\n",
    "start_time = time.time()\n",
    "for iter in tqdm(range(epochs), desc=\"Training Epochs\"):\n",
    "    # Training phase\n",
    "    model.train()  # Set model to training mode\n",
    "    xb, yb = get_batch('train')\n",
    "    logits, train_loss = model(xb, yb)\n",
    "\n",
    "    # Zero gradients, backward pass, and optimizer step\n",
    "    optimizer.zero_grad(set_to_none=True)\n",
    "    train_loss.backward()\n",
    "    optimizer.step()\n",
    "    train_losses.append(train_loss.item())\n",
    "\n",
    "    # Evaluation phase every eval_iter\n",
    "    if iter % eval_iter == 0:\n",
    "        model.eval()  # Set model to evaluation mode\n",
    "        val_losses_list = []\n",
    "\n",
    "        for _ in range(eval_iter):\n",
    "            with torch.no_grad():  # Disable gradient calculation\n",
    "                X_val, Y_val = get_batch('val')\n",
    "                logits, val_loss = model(X_val, Y_val)\n",
    "                val_losses_list.append(val_loss.item())\n",
    "        \n",
    "        # Calculate mean of validation losses\n",
    "        avg_val_loss = sum(val_losses_list) / len(val_losses_list)\n",
    "\n",
    "        # Log and print average train and validation losses\n",
    "        print(f\"Epoch: {iter}, Train Loss: {train_loss.item()}, Val Loss: {avg_val_loss}\")\n",
    "        # wandb.log({\n",
    "        #     'train_loss': train_loss.item(),\n",
    "        #     'val_loss': avg_val_loss\n",
    "        # })\n",
    "\n",
    "        # Track best losses\n",
    "        if train_loss.item() < best_train_loss:\n",
    "            best_train_loss = train_loss.item()\n",
    "        if avg_val_loss < best_val_loss:\n",
    "            best_val_loss = avg_val_loss\n",
    "        val_losses.append(avg_val_loss)\n",
    "\n",
    "end_time = time.time()\n",
    "train_time = end_time - start_time"
   ]
  },
  {
   "cell_type": "code",
   "execution_count": null,
   "metadata": {},
   "outputs": [],
   "source": [
    "print(100*'*')\n",
    "# Load best losses from JSON file if it exists\n",
    "best_losses_file = 'best_losses.json'\n",
    "try:\n",
    "    with open(best_losses_file, 'r') as f:\n",
    "        best_losses = json.load(f)\n",
    "        best_train_loss = best_losses.get('best_train_loss', best_train_loss)\n",
    "        best_val_loss = best_losses.get('best_val_loss', best_val_loss)\n",
    "except FileNotFoundError:\n",
    "    best_losses = {\n",
    "        'best_train_loss': best_train_loss,\n",
    "        'best_val_loss': best_val_loss\n",
    "    }\n",
    "    with open(best_losses_file, 'w') as f:\n",
    "        json.dump(best_losses, f)"
   ]
  },
  {
   "cell_type": "code",
   "execution_count": null,
   "metadata": {},
   "outputs": [],
   "source": [
    "print(f\"Generated Text:\")\n",
    "idx = torch.zeros((1,1), dtype=torch.long)\n",
    "generated_text = decode(model.generate(idx, max_new_tokens=2000)[0].tolist())\n",
    "print(generated_text)"
   ]
  },
  {
   "cell_type": "code",
   "execution_count": null,
   "metadata": {},
   "outputs": [],
   "source": [
    "# Check if current run has better losses\n",
    "if best_train_loss < best_losses.get('best_train_loss', float('inf')) or best_val_loss < best_losses.get('best_val_loss', float('inf')):\n",
    "    # Save generated text to file\n",
    "    with open('generated_shakespeare_text.txt', 'w') as f:\n",
    "        f.write(generated_text)\n",
    "\n",
    "    # Update best losses and save to JSON file\n",
    "    best_losses['best_train_loss'] = best_train_loss\n",
    "    best_losses['best_val_loss'] = best_val_loss\n",
    "    with open(best_losses_file, 'w') as f:\n",
    "        json.dump(best_losses, f)\n",
    "\n",
    "    # Have wandb save the text file\n",
    "    wandb.save('generated_shakespeare_text.txt')\n",
    "    # also save an image of the training and validation loss curves\n",
    "    plt.plot(train_losses, label='train loss')\n",
    "    plt.plot(val_losses, label='val loss')\n",
    "    plt.legend()\n",
    "    plt.savefig('train_val_loss.png')\n",
    "    wandb.save('train_val_loss.png')\n",
    "    print(\"Current run beat the best losses. Generated text saved.\")\n",
    "\n",
    "else:\n",
    "    print(\"Current run did not beat the best losses. Generated text not saved.\")\n",
    "print(100*'*')\n",
    "print(100*'*')"
   ]
  },
  {
   "cell_type": "code",
   "execution_count": null,
   "metadata": {},
   "outputs": [],
   "source": [
    "print(f\"Best Train Loss: {best_train_loss}\")\n",
    "print(f\"Best Validation Loss: {best_val_loss}\")\n",
    "# show total number of parameters in the model\n",
    "total_params = sum(p.numel() for p in model.parameters())\n",
    "print(f\"Total number of parameters in the model: {total_params}\")\n",
    "# show toal number of tokens in the dataset\n",
    "total_tokens = len(data)\n",
    "print(f\"Total number of tokens in the dataset: {total_tokens}\")\n",
    "print(f\"According to Chinchilla Law, you need at least {total_params * 2} tokens to train this model.\") # TODO: work on this"
   ]
  },
  {
   "cell_type": "code",
   "execution_count": null,
   "metadata": {},
   "outputs": [],
   "source": [
    "# Ensure train_time and other parameters are defined before logging\n",
    "# wandb.log({\n",
    "#     'epochs': epochs,\n",
    "#     \"learning_rate\": learning_rate,\n",
    "#     \"block_size\": block_size,\n",
    "#     \"batch_size\": batch_size,\n",
    "#     \"embedding_size\": n_emb,\n",
    "#     \"optimizer\": \"AdamW\",\n",
    "#     \"device\": device,\n",
    "#     \"vocab_size\": vocab_size,\n",
    "#     \"best_train_loss\": best_train_loss,\n",
    "#     \"best_val_loss\": best_val_loss,\n",
    "#     'Training Time': train_time, \n",
    "#     'dropout': dropout,\n",
    "#     'n_layer': n_layer,\n",
    "#     'n_heads': n_heads,\n",
    "#     'train_test_split': train_test_split,\n",
    "#     'total_params': total_params\n",
    "# })\n",
    "\n",
    "print(f\"Total time to train model up to {epochs} epochs: {train_time:.2f} seconds\")\n",
    "wandb.finish()"
   ]
  },
  {
   "cell_type": "code",
   "execution_count": null,
   "metadata": {},
   "outputs": [],
   "source": []
  },
  {
   "cell_type": "code",
   "execution_count": null,
   "metadata": {},
   "outputs": [],
   "source": []
  },
  {
   "cell_type": "code",
   "execution_count": null,
   "metadata": {},
   "outputs": [],
   "source": []
  },
  {
   "cell_type": "code",
   "execution_count": null,
   "metadata": {},
   "outputs": [],
   "source": []
  },
  {
   "cell_type": "code",
   "execution_count": null,
   "metadata": {},
   "outputs": [],
   "source": []
  },
  {
   "cell_type": "code",
   "execution_count": null,
   "metadata": {},
   "outputs": [],
   "source": []
  },
  {
   "cell_type": "code",
   "execution_count": null,
   "metadata": {},
   "outputs": [],
   "source": []
  },
  {
   "cell_type": "code",
   "execution_count": null,
   "metadata": {},
   "outputs": [],
   "source": []
  },
  {
   "cell_type": "code",
   "execution_count": null,
   "metadata": {},
   "outputs": [],
   "source": []
  },
  {
   "cell_type": "code",
   "execution_count": null,
   "metadata": {},
   "outputs": [],
   "source": []
  },
  {
   "cell_type": "code",
   "execution_count": null,
   "metadata": {},
   "outputs": [],
   "source": []
  },
  {
   "cell_type": "code",
   "execution_count": null,
   "metadata": {},
   "outputs": [],
   "source": []
  },
  {
   "cell_type": "code",
   "execution_count": null,
   "metadata": {},
   "outputs": [],
   "source": []
  }
 ],
 "metadata": {
  "kernelspec": {
   "display_name": "ML-AI",
   "language": "python",
   "name": "python3"
  },
  "language_info": {
   "codemirror_mode": {
    "name": "ipython",
    "version": 3
   },
   "file_extension": ".py",
   "mimetype": "text/x-python",
   "name": "python",
   "nbconvert_exporter": "python",
   "pygments_lexer": "ipython3",
   "version": "3.11.4"
  }
 },
 "nbformat": 4,
 "nbformat_minor": 2
}
